from surprise import Dataset, Reader, SVD
from surprise.model_selection import train_test_split

reader = Reader(rating_scale=(1, 5))
data = Dataset.load_from_df(ratings_df[['user', 'recipe', 'rating']], reader)

trainset, testset = train_test_split(data, test_size=0.2)
svd = SVD()
svd.fit(trainset)

pickle.dump(svd, open('svd_model.pkl', 'wb'))

