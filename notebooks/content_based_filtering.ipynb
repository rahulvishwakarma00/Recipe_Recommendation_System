from sklearn.feature_extraction.text import TfidfVectorizer
from sklearn.metrics.pairwise import linear_kernel

df['ingredients'] = df['ingredients'].apply(lambda x: ' '.join(eval(x)))

vectorizer = TfidfVectorizer(stop_words='english')
tfidf_matrix = vectorizer.fit_transform(df['ingredients'])

cosine_sim = linear_kernel(tfidf_matrix, tfidf_matrix)

import pickle
pickle.dump(cosine_sim, open('cosine_sim.pkl', 'wb'))
df.to_pickle('recipes_df.pkl')

