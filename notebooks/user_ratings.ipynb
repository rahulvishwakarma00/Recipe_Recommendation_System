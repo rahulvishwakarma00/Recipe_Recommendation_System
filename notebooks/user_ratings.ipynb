
import numpy as np

users = [f'user_{i}' for i in range(1, 21)]
ratings_data = []
for user in users:
    for recipe in df['title']:
        if np.random.rand() < 0.1:
            ratings_data.append([user, recipe, np.random.randint(1, 6)])

ratings_df = pd.DataFrame(ratings_data, columns=['user', 'recipe', 'rating'])
ratings_df.to_csv('ratings.csv', index=False)
